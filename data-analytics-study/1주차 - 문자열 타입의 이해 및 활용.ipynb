{
 "cells": [
  {
   "cell_type": "markdown",
   "metadata": {},
   "source": [
    "# 학습목표"
   ]
  },
  {
   "cell_type": "markdown",
   "metadata": {},
   "source": [
    "1. 문자열(str) 타입 이해하기"
   ]
  },
  {
   "cell_type": "markdown",
   "metadata": {},
   "source": [
    "# string (문자열)\n",
    "- 복수개의 문자를 순서대로 나열 한 것\n",
    "- 문자열 '(작은 따옴표)' 혹은 '(큰 따옴표)' 사이에 문자를 넣어서 생성\n",
    "- 문자열 자체에 ',\" 가 있는 경우 각각 그 반대의 기호로 생성"
   ]
  },
  {
   "cell_type": "code",
   "execution_count": 3,
   "metadata": {
    "ExecuteTime": {
     "end_time": "2021-02-19T11:18:55.681942Z",
     "start_time": "2021-02-19T11:18:55.671981Z"
    }
   },
   "outputs": [
    {
     "name": "stdout",
     "output_type": "stream",
     "text": [
      "Hello DINCO! It's nice weather!\n"
     ]
    },
    {
     "data": {
      "text/plain": [
       "str"
      ]
     },
     "execution_count": 3,
     "metadata": {},
     "output_type": "execute_result"
    }
   ],
   "source": [
    "string = \"Hello DINCO! It's nice weather!\"\n",
    "print(string)\n",
    "type(string)"
   ]
  },
  {
   "cell_type": "markdown",
   "metadata": {},
   "source": [
    "# ''' ''' 사용하여 표현 가능"
   ]
  },
  {
   "cell_type": "markdown",
   "metadata": {},
   "source": [
    "- 차이점\n",
    "1. '',\"\" -> 한줄 문자열 표현\n",
    "2. ''' ''' -> 여러줄에 걸쳐 문자열 표현 가능"
   ]
  },
  {
   "cell_type": "code",
   "execution_count": 5,
   "metadata": {},
   "outputs": [
    {
     "name": "stdout",
     "output_type": "stream",
     "text": [
      "Hello COIN! Hello COIN! Hello COIN! Hello COIN!\n"
     ]
    }
   ],
   "source": [
    "a = 'Hello COIN!'\n",
    "b = \"Hello COIN!\"\n",
    "c = '''Hello COIN!'''\n",
    "d = \"\"\"Hello COIN!\"\"\"\n",
    "\n",
    "print(a, b, c, d)"
   ]
  },
  {
   "cell_type": "code",
   "execution_count": 9,
   "metadata": {},
   "outputs": [
    {
     "name": "stdout",
     "output_type": "stream",
     "text": [
      "Hello \"COIN!\"\n",
      "Hello 'COIN!'\n"
     ]
    }
   ],
   "source": [
    "a = 'Hello \"COIN!\"' # 문자열 내에 \"\" 사용\n",
    "b = \"Hello 'COIN!'\"  # 문자열 내에 '' 사용\n",
    "print(a)\n",
    "print(b)"
   ]
  },
  {
   "cell_type": "markdown",
   "metadata": {},
   "source": [
    "- 문자열은 반드시 한 줄로 표현되어야 함"
   ]
  },
  {
   "cell_type": "code",
   "execution_count": 2,
   "metadata": {
    "ExecuteTime": {
     "end_time": "2021-03-19T10:29:29.632663Z",
     "start_time": "2021-03-19T10:29:29.619780Z"
    }
   },
   "outputs": [
    {
     "name": "stdout",
     "output_type": "stream",
     "text": [
      "Hello COIN! It's very fun!\n"
     ]
    }
   ],
   "source": [
    "string = \"Hello COIN! It's very fun!\"\n",
    "print(string)"
   ]
  },
  {
   "cell_type": "code",
   "execution_count": 3,
   "metadata": {
    "ExecuteTime": {
     "end_time": "2021-03-19T10:29:33.228393Z",
     "start_time": "2021-03-19T10:29:33.209444Z"
    }
   },
   "outputs": [
    {
     "ename": "SyntaxError",
     "evalue": "EOL while scanning string literal (<ipython-input-3-8a7f1cfba87e>, line 1)",
     "output_type": "error",
     "traceback": [
      "\u001b[1;36m  File \u001b[1;32m\"<ipython-input-3-8a7f1cfba87e>\"\u001b[1;36m, line \u001b[1;32m1\u001b[0m\n\u001b[1;33m    string = \"Hello COIN!\u001b[0m\n\u001b[1;37m                          ^\u001b[0m\n\u001b[1;31mSyntaxError\u001b[0m\u001b[1;31m:\u001b[0m EOL while scanning string literal\n"
     ]
    }
   ],
   "source": [
    "string = \"Hello COIN! \n",
    "It's very fun!\"\n",
    "print(string)"
   ]
  },
  {
   "cell_type": "markdown",
   "metadata": {},
   "source": [
    "- 따옴표 3개 사용 시 여러줄로 표현 가능\n",
    "- 줄바꿈이 기본으로 들어감"
   ]
  },
  {
   "cell_type": "code",
   "execution_count": 16,
   "metadata": {},
   "outputs": [
    {
     "name": "stdout",
     "output_type": "stream",
     "text": [
      "Hello COIN! \n",
      "It's very fun!\n",
      "\n",
      "Hello COIN! \n",
      "It's very fun!\n"
     ]
    }
   ],
   "source": [
    "string = '''Hello COIN! \n",
    "It's very fun!'''\n",
    "print(string)\n",
    "\n",
    "print()\n",
    "\n",
    "string = \"\"\"Hello COIN! \n",
    "It's very fun!\"\"\"\n",
    "print(string)"
   ]
  },
  {
   "cell_type": "markdown",
   "metadata": {},
   "source": [
    "# escape string(이스케이프 문자)\n",
    "- 문자열 내의 일부 문자의 의미를 달리하여 특정한 효과를 주는 것\n",
    "- \\n : new line \\t : tab 등"
   ]
  },
  {
   "cell_type": "code",
   "execution_count": 5,
   "metadata": {
    "ExecuteTime": {
     "end_time": "2021-03-19T10:30:31.675126Z",
     "start_time": "2021-03-19T10:30:31.665151Z"
    }
   },
   "outputs": [
    {
     "name": "stdout",
     "output_type": "stream",
     "text": [
      "Hello DINGCO\n",
      "\n",
      "It's very fun!\n"
     ]
    }
   ],
   "source": [
    "print('Hello DINGCO\\n')\n",
    "print(\"It's very fun!\")"
   ]
  },
  {
   "cell_type": "markdown",
   "metadata": {},
   "source": [
    "# indexing & slicing string (문자열 인덱스 및 추출)\n",
    "- 문자열의 각 문자는 순서가 있음\n",
    "- 이때 각 문자열의 순서를 인덱스라고 함\n",
    "- 첫번째 문자부터 마지막까지 차례대로의 순서를 가짐\n",
    "- 첫번째 시작문자의 순서는 0으로 시작 (1이 아님)"
   ]
  },
  {
   "cell_type": "code",
   "execution_count": 12,
   "metadata": {
    "ExecuteTime": {
     "end_time": "2021-02-19T11:32:18.502917Z",
     "start_time": "2021-02-19T11:32:18.484968Z"
    }
   },
   "outputs": [
    {
     "data": {
      "text/plain": [
       "12"
      ]
     },
     "execution_count": 12,
     "metadata": {},
     "output_type": "execute_result"
    }
   ],
   "source": [
    "str_ = \"HELLO DINGCO\"\n",
    "\n",
    "len(str_) # len 함수는 길이를 세어준다, 문자열의 길이"
   ]
  },
  {
   "cell_type": "code",
   "execution_count": 6,
   "metadata": {
    "ExecuteTime": {
     "end_time": "2021-03-19T10:32:39.122837Z",
     "start_time": "2021-03-19T10:32:39.091925Z"
    }
   },
   "outputs": [
    {
     "data": {
      "text/plain": [
       "'HELLO DINGCO'"
      ]
     },
     "execution_count": 6,
     "metadata": {},
     "output_type": "execute_result"
    }
   ],
   "source": [
    "str_ = \"HELLO DINGCO\"\n",
    "\n",
    "str_[:] # str_ 모든 데이터를 출력해라"
   ]
  },
  {
   "cell_type": "code",
   "execution_count": 8,
   "metadata": {
    "ExecuteTime": {
     "end_time": "2021-03-19T10:32:56.761428Z",
     "start_time": "2021-03-19T10:32:56.741489Z"
    }
   },
   "outputs": [
    {
     "data": {
      "text/plain": [
       "'H'"
      ]
     },
     "execution_count": 8,
     "metadata": {},
     "output_type": "execute_result"
    }
   ],
   "source": [
    "a = 'HELLO DINGCO'\n",
    "a[0] # 프로그래밍 언어는 대부분의 시작값은 0, 내가 무엇으로 값에 접근을 하고, 값들은 고유한 무엇을 가지고 있는가?, 출력되는 것은 무엇인가?"
   ]
  },
  {
   "cell_type": "code",
   "execution_count": 15,
   "metadata": {
    "ExecuteTime": {
     "end_time": "2021-02-19T11:35:32.421947Z",
     "start_time": "2021-02-19T11:35:32.412975Z"
    }
   },
   "outputs": [
    {
     "data": {
      "text/plain": [
       "'O'"
      ]
     },
     "execution_count": 15,
     "metadata": {},
     "output_type": "execute_result"
    }
   ],
   "source": [
    "a[-1] # 문자의 마지막 순서"
   ]
  },
  {
   "cell_type": "code",
   "execution_count": 16,
   "metadata": {
    "ExecuteTime": {
     "end_time": "2021-02-19T11:35:34.031529Z",
     "start_time": "2021-02-19T11:35:34.016571Z"
    }
   },
   "outputs": [
    {
     "data": {
      "text/plain": [
       "'HELLO DINGCO'"
      ]
     },
     "execution_count": 16,
     "metadata": {},
     "output_type": "execute_result"
    }
   ],
   "source": [
    "a[:]"
   ]
  },
  {
   "cell_type": "code",
   "execution_count": 10,
   "metadata": {
    "ExecuteTime": {
     "end_time": "2021-03-19T10:36:12.366390Z",
     "start_time": "2021-03-19T10:36:12.360406Z"
    }
   },
   "outputs": [
    {
     "data": {
      "text/plain": [
       "'DINGCO'"
      ]
     },
     "execution_count": 10,
     "metadata": {},
     "output_type": "execute_result"
    }
   ],
   "source": [
    "a[-6:] # -6번부터 전체 데이터를 출력해라"
   ]
  },
  {
   "cell_type": "code",
   "execution_count": 11,
   "metadata": {
    "ExecuteTime": {
     "end_time": "2021-03-19T10:37:16.831071Z",
     "start_time": "2021-03-19T10:37:16.824087Z"
    }
   },
   "outputs": [],
   "source": [
    "hi = a[0:5]"
   ]
  },
  {
   "cell_type": "code",
   "execution_count": 36,
   "metadata": {},
   "outputs": [
    {
     "name": "stdout",
     "output_type": "stream",
     "text": [
      "Hello COIN!\n"
     ]
    }
   ],
   "source": [
    "greeting = a[:5]\n",
    "who = a[6:]\n",
    "print(greeting, who)"
   ]
  },
  {
   "cell_type": "markdown",
   "metadata": {},
   "source": [
    "# 문자열 함수\n",
    "- 문자열은 여러가지 기능 제공을 위한 함수를 내장\n",
    "- 함수랑 특정 기능을 하는 코드로 언제든지 호출하여 해당 기능을 사용 가능하도록 구성한 코드"
   ]
  },
  {
   "cell_type": "markdown",
   "metadata": {},
   "source": [
    "### - replace\n",
    "- 문자열 내의 특정 문자를 치환"
   ]
  },
  {
   "cell_type": "code",
   "execution_count": 14,
   "metadata": {
    "ExecuteTime": {
     "end_time": "2021-03-19T10:37:54.991497Z",
     "start_time": "2021-03-19T10:37:54.985511Z"
    }
   },
   "outputs": [
    {
     "data": {
      "text/plain": [
       "'HELLO dingco'"
      ]
     },
     "execution_count": 14,
     "metadata": {},
     "output_type": "execute_result"
    }
   ],
   "source": [
    "a = \"HELLO dingco\"\n",
    "a"
   ]
  },
  {
   "cell_type": "code",
   "execution_count": 15,
   "metadata": {
    "ExecuteTime": {
     "end_time": "2021-03-19T10:38:02.861953Z",
     "start_time": "2021-03-19T10:38:02.851950Z"
    }
   },
   "outputs": [
    {
     "data": {
      "text/plain": [
       "'HELLO DINGCO'"
      ]
     },
     "execution_count": 15,
     "metadata": {},
     "output_type": "execute_result"
    }
   ],
   "source": [
    "a.upper() # 대문자 변환 (소문자는 lower)"
   ]
  },
  {
   "cell_type": "code",
   "execution_count": 16,
   "metadata": {
    "ExecuteTime": {
     "end_time": "2021-03-19T10:38:05.893706Z",
     "start_time": "2021-03-19T10:38:05.876753Z"
    }
   },
   "outputs": [
    {
     "data": {
      "text/plain": [
       "'HELLO PYTHON'"
      ]
     },
     "execution_count": 16,
     "metadata": {},
     "output_type": "execute_result"
    }
   ],
   "source": [
    "a.replace('dingco', 'PYTHON') # 1번 인자(변경될 데이터(현재)), 2번 인자(변경할 데이터(미래))"
   ]
  },
  {
   "cell_type": "markdown",
   "metadata": {},
   "source": [
    "### - format\n",
    "- 문자열 내의 특정한 값을 변수로부터 초기화하여 동적으로 문자열 생성"
   ]
  },
  {
   "cell_type": "code",
   "execution_count": 45,
   "metadata": {},
   "outputs": [
    {
     "name": "stdout",
     "output_type": "stream",
     "text": [
      "오늘 기온{}도 이고, 비올 확률은 {}% 입니다.\n"
     ]
    }
   ],
   "source": [
    "a = '오늘 기온{}도 이고, 비올 확률은 {}% 입니다.'\n",
    "print(a)"
   ]
  },
  {
   "cell_type": "code",
   "execution_count": 19,
   "metadata": {
    "ExecuteTime": {
     "end_time": "2021-03-19T10:41:07.505740Z",
     "start_time": "2021-03-19T10:41:07.494771Z"
    }
   },
   "outputs": [
    {
     "name": "stdout",
     "output_type": "stream",
     "text": [
      "오늘 기온25.3도 이고, 비올 확률은 70.0% 입니다.\n"
     ]
    }
   ],
   "source": [
    "temp =  25.3\n",
    "prob = 70.0\n",
    "\n",
    "a = '오늘 기온{}도 이고, 비올 확률은 {}% 입니다.'.format(temp, prob)\n",
    "print(a)"
   ]
  },
  {
   "cell_type": "markdown",
   "metadata": {},
   "source": [
    "### - split\n",
    "- 문자열을 특정한 문자 구분하여(delimiter) 문자열의 리스트로 치환"
   ]
  },
  {
   "cell_type": "code",
   "execution_count": 21,
   "metadata": {
    "ExecuteTime": {
     "end_time": "2021-03-19T10:41:41.180355Z",
     "start_time": "2021-03-19T10:41:41.162393Z"
    }
   },
   "outputs": [
    {
     "data": {
      "text/plain": [
       "['hello', 'COIN', 'we', 'are', 'best', 'friend']"
      ]
     },
     "execution_count": 21,
     "metadata": {},
     "output_type": "execute_result"
    }
   ],
   "source": [
    "a = 'hello COIN we are best friend'\n",
    "a.split(\" \")"
   ]
  },
  {
   "cell_type": "code",
   "execution_count": 35,
   "metadata": {
    "ExecuteTime": {
     "end_time": "2021-02-19T11:53:23.088239Z",
     "start_time": "2021-02-19T11:53:23.069289Z"
    }
   },
   "outputs": [
    {
     "data": {
      "text/plain": [
       "['010', '1234', '5678']"
      ]
     },
     "execution_count": 35,
     "metadata": {},
     "output_type": "execute_result"
    }
   ],
   "source": [
    "phone_number = '010-1234-5678'\n",
    "phone_number.split('-')"
   ]
  },
  {
   "cell_type": "code",
   "execution_count": null,
   "metadata": {},
   "outputs": [],
   "source": []
  }
 ],
 "metadata": {
  "kernelspec": {
   "display_name": "Python 3",
   "language": "python",
   "name": "python3"
  },
  "language_info": {
   "codemirror_mode": {
    "name": "ipython",
    "version": 3
   },
   "file_extension": ".py",
   "mimetype": "text/x-python",
   "name": "python",
   "nbconvert_exporter": "python",
   "pygments_lexer": "ipython3",
   "version": "3.7.6"
  },
  "toc": {
   "base_numbering": 1,
   "nav_menu": {},
   "number_sections": true,
   "sideBar": true,
   "skip_h1_title": false,
   "title_cell": "Table of Contents",
   "title_sidebar": "Contents",
   "toc_cell": false,
   "toc_position": {},
   "toc_section_display": true,
   "toc_window_display": false
  },
  "varInspector": {
   "cols": {
    "lenName": 16,
    "lenType": 16,
    "lenVar": 40
   },
   "kernels_config": {
    "python": {
     "delete_cmd_postfix": "",
     "delete_cmd_prefix": "del ",
     "library": "var_list.py",
     "varRefreshCmd": "print(var_dic_list())"
    },
    "r": {
     "delete_cmd_postfix": ") ",
     "delete_cmd_prefix": "rm(",
     "library": "var_list.r",
     "varRefreshCmd": "cat(var_dic_list()) "
    }
   },
   "types_to_exclude": [
    "module",
    "function",
    "builtin_function_or_method",
    "instance",
    "_Feature"
   ],
   "window_display": false
  }
 },
 "nbformat": 4,
 "nbformat_minor": 4
}
